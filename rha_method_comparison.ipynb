{
 "cells": [
  {
   "cell_type": "markdown",
   "id": "fd6e48b2-37a1-420d-a8a2-b7d4df416ce0",
   "metadata": {},
   "source": [
    "# Comparison of Methods to Calculate rH"
   ]
  },
  {
   "cell_type": "code",
   "execution_count": 1,
   "id": "53b7508c-24b0-4eaf-8ae8-91a9206059b9",
   "metadata": {},
   "outputs": [],
   "source": [
    "import pandas as pd\n",
    "import datetime as dt\n",
    "import numpy as np\n",
    "from flux_functions import preprocessAmeriflux\n",
    "from resistance_functions import *"
   ]
  },
  {
   "cell_type": "code",
   "execution_count": 2,
   "id": "a94f724e-2560-4c3d-ac6a-2d33bb3b3451",
   "metadata": {},
   "outputs": [],
   "source": [
    "methods = ['thom_1972', 'brutsaert_1982', 'sheppard_1958_v1', 'sheppard_1958_v2', 'owen_thomson_1963', 'zeng_dickinson_1998', 'zilitinkevich_1995', 'kanda_2007', 'kondo_1975', 'log1', 'log10', 'log100'] "
   ]
  },
  {
   "cell_type": "markdown",
   "id": "2a926660-d13c-4ae2-b851-ceda7e55bd66",
   "metadata": {},
   "source": [
    "## Charleston Mesquite Woodland"
   ]
  },
  {
   "cell_type": "code",
   "execution_count": 3,
   "id": "06e630cf-e2da-42cb-95e9-ea8502042250",
   "metadata": {},
   "outputs": [],
   "source": [
    "CMW_arg_dict = {'WS_1_col': 'WS_1_1_1', \n",
    "            'WS_2_col': 'WS_1_2_1',\n",
    "            'plant_WS_col': 'WS_1_2_1',\n",
    "            'z1': 14,\n",
    "            'z2': 8, \n",
    "            'plant_z': 8, #match plant_WS_col\n",
    "            'USTAR_col': 'USTAR', \n",
    "            'H_col': 'H', \n",
    "            'plant_TA_col': 'TA_1_2_1', \n",
    "            'TC_TA_col': 'IR_tc_ta',\n",
    "            'PA_col': 'PA',\n",
    "            'year_col': 'year', \n",
    "            'month_col': 'month'}"
   ]
  },
  {
   "cell_type": "code",
   "execution_count": 4,
   "id": "693c53e2-fed0-42cd-8167-465523af6dbc",
   "metadata": {},
   "outputs": [],
   "source": [
    "CMW_Eddy_Covariance_daytime = preprocessAmeriflux('CMW/AMF_US-CMW_BASE_HH_1-5.csv', \n",
    "                                                  heights = 3, \n",
    "                                                  ustar_thresh = 0.2, \n",
    "                                                  time_start = \"8:00\", \n",
    "                                                  time_end = \"15:30\", \n",
    "                                                  time_zone = 'America/Phoenix')\n",
    "\n",
    "CMW_Eddy_Covariance_daytime['IR_tc_ta'] = (CMW_Eddy_Covariance_daytime.T_CANOPY_1_1_1 + 273.15) - (CMW_Eddy_Covariance_daytime.TA_1_2_1 + 273.15)\n",
    "CMW_Eddy_Covariance_daytime = CMW_Eddy_Covariance_daytime[CMW_Eddy_Covariance_daytime.year < 2007]\n",
    "CMW_Eddy_Covariance_daytime = CMW_Eddy_Covariance_daytime.dropna(subset = ['T_CANOPY_1_1_1', 'Rn_G', 'Evap_Frac', 'TA_1_2_1'])"
   ]
  },
  {
   "cell_type": "code",
   "execution_count": 5,
   "id": "af68ef6f-b95d-43e9-a55f-86fec5a10162",
   "metadata": {},
   "outputs": [
    {
     "name": "stdout",
     "output_type": "stream",
     "text": [
      "thom_1972 MAE = 7.25 sm-1, sizes: 7370 7370\n",
      "brutsaert_1982 MAE = 184.87 sm-1, sizes: 7370 7370\n",
      "sheppard_1958_v1 MAE = 46.18 sm-1, sizes: 7370 7370\n",
      "sheppard_1958_v2 MAE = 50.62 sm-1, sizes: 7370 7370\n",
      "owen_thomson_1963 MAE = 302.57 sm-1, sizes: 7370 7370\n",
      "zeng_dickinson_1998 MAE = 92.96 sm-1, sizes: 7370 7370\n",
      "zilitinkevich_1995 MAE = 49.57 sm-1, sizes: 7370 7370\n",
      "kanda_2007 MAE = 90.2 sm-1, sizes: 7370 7370\n",
      "kondo_1975 MAE = 51.13 sm-1, sizes: 7370 7370\n",
      "log1 MAE = 4.42 sm-1, sizes: 7370 7370\n",
      "log10 MAE = 8.6 sm-1, sizes: 7370 7370\n",
      "log100 MAE = 19.71 sm-1, sizes: 7370 7370\n"
     ]
    }
   ],
   "source": [
    "CMW_true_rha = calc_rha_from_temp(pa = CMW_Eddy_Covariance_daytime.PA, \n",
    "                                  ta = CMW_Eddy_Covariance_daytime.TA_1_2_1, \n",
    "                                  tc_ta = CMW_Eddy_Covariance_daytime.IR_tc_ta, \n",
    "                                  h = CMW_Eddy_Covariance_daytime.H, \n",
    "                                  rh = CMW_Eddy_Covariance_daytime.RH_1_2_1)\n",
    "\n",
    "riparian_dict = {}\n",
    "\n",
    "for m in methods:\n",
    "    preds = predict_rha(CMW_Eddy_Covariance_daytime, CMW_arg_dict, method = m)\n",
    "    if ~np.all(CMW_true_rha.index == preds.index):\n",
    "        print(\"indexes don't match\")\n",
    "    compare = pd.concat([CMW_true_rha, preds], axis = 1, ignore_index = False).rename(columns = {0: 'true', 1: 'predicted'}).dropna()\n",
    "    riparian_dict[m] = np.nanmedian(np.abs(compare.true - compare.predicted)).round(2)\n",
    "    print(m, 'MAE =', np.nanmedian(np.abs(compare.true - compare.predicted)).round(2), 'sm-1, sizes:', len(compare.true), len(compare.predicted))"
   ]
  },
  {
   "cell_type": "markdown",
   "id": "3496cd8f-fd51-423f-bf1f-b5b8cf77c820",
   "metadata": {},
   "source": [
    "## Santa Rita Upland Savanna"
   ]
  },
  {
   "cell_type": "code",
   "execution_count": 6,
   "id": "23de3232-ae4e-4176-94f7-c0d564578fdf",
   "metadata": {},
   "outputs": [],
   "source": [
    "SRM_arg_dict = {'WS_1_col': 'WS_1_1_1', \n",
    "            'WS_2_col': 'WS_1_2_1',\n",
    "            'plant_WS_col': 'WS_1_2_1', #check sensor\n",
    "            'z1': 7.8,\n",
    "            'z2': 3.5, \n",
    "            'plant_z': 3.5, #match plant_WS_col\n",
    "            'USTAR_col': 'USTAR', \n",
    "            'H_col': 'H', \n",
    "            'plant_TA_col': 'TA_1_2_1', \n",
    "            'TC_TA_col': 'IR_tc_ta',\n",
    "            'PA_col': 'PA',\n",
    "            'year_col': 'year', \n",
    "            'month_col': 'month'}"
   ]
  },
  {
   "cell_type": "code",
   "execution_count": 7,
   "id": "fd9483b0-c2ec-45af-b287-711ee28bbe33",
   "metadata": {},
   "outputs": [],
   "source": [
    "SRM_Eddy_Covariance_daytime = preprocessAmeriflux('SRM/AMF_US-SRM_BASE_HH_22-5.csv', \n",
    "                                                  heights = 2, \n",
    "                                                  ustar_thresh = 0.2, \n",
    "                                                  time_start = \"8:00\", \n",
    "                                                  time_end = \"15:30\", \n",
    "                                                  time_zone = 'America/Phoenix')\n",
    "\n",
    "SRM_Eddy_Covariance_daytime['IR_tc_ta'] = (SRM_Eddy_Covariance_daytime.T_CANOPY_1_1_1 + 273.15) - (SRM_Eddy_Covariance_daytime.TA_1_2_1 + 273.15)\n",
    "SRM_Eddy_Covariance_daytime = SRM_Eddy_Covariance_daytime[~SRM_Eddy_Covariance_daytime.year.isin([2014, 2015, 2020, 2021])]\n",
    "SRM_Eddy_Covariance_daytime = SRM_Eddy_Covariance_daytime.dropna(subset = ['T_CANOPY_1_1_1', 'Rn_G', 'Evap_Frac', 'TA_1_2_1'])"
   ]
  },
  {
   "cell_type": "code",
   "execution_count": 8,
   "id": "eeec155d-4ad5-4e6b-9adc-b2dfc72d2a02",
   "metadata": {},
   "outputs": [
    {
     "name": "stdout",
     "output_type": "stream",
     "text": [
      "thom_1972 MAE = 9.1 sm-1, sizes: 14224 14224\n",
      "brutsaert_1982 MAE = 131.22 sm-1, sizes: 14224 14224\n",
      "sheppard_1958_v1 MAE = 37.19 sm-1, sizes: 14224 14224\n",
      "sheppard_1958_v2 MAE = 42.4 sm-1, sizes: 14224 14224\n",
      "owen_thomson_1963 MAE = 157.22 sm-1, sizes: 14224 14224\n",
      "zeng_dickinson_1998 MAE = 42.65 sm-1, sizes: 14224 14224\n",
      "zilitinkevich_1995 MAE = 16.97 sm-1, sizes: 14224 14224\n",
      "kanda_2007 MAE = 57.4 sm-1, sizes: 14224 14224\n",
      "kondo_1975 MAE = 43.08 sm-1, sizes: 14224 14224\n",
      "log1 MAE = 12.43 sm-1, sizes: 14224 14224\n",
      "log10 MAE = 10.07 sm-1, sizes: 14224 14224\n",
      "log100 MAE = 16.73 sm-1, sizes: 14224 14224\n"
     ]
    }
   ],
   "source": [
    "SRM_true_rha = calc_rha_from_temp(pa = SRM_Eddy_Covariance_daytime.PA, ta = SRM_Eddy_Covariance_daytime.TA_1_2_1, tc_ta = SRM_Eddy_Covariance_daytime.IR_tc_ta, h = SRM_Eddy_Covariance_daytime.H, rh = SRM_Eddy_Covariance_daytime.RH_1_2_1)\n",
    "\n",
    "upland_dict = {}\n",
    "\n",
    "for m in methods:\n",
    "    preds = predict_rha(SRM_Eddy_Covariance_daytime, SRM_arg_dict, method = m)\n",
    "    if ~np.all(SRM_true_rha.index == preds.index):\n",
    "        print(\"indexes don't match\")\n",
    "    compare = pd.concat([SRM_true_rha, preds], axis = 1, ignore_index = False).rename(columns = {0: 'true', 1: 'predicted'}).dropna()\n",
    "    upland_dict[m] = np.nanmedian(np.abs(compare.true - compare.predicted)).round(2)\n",
    "    print(m, 'MAE =', np.nanmedian(np.abs(compare.true - compare.predicted)).round(2), 'sm-1, sizes:', len(compare.true), len(compare.predicted))"
   ]
  },
  {
   "cell_type": "code",
   "execution_count": 9,
   "id": "4d856906-5b83-4a26-ac19-98135cc1f161",
   "metadata": {},
   "outputs": [
    {
     "data": {
      "text/html": [
       "<div>\n",
       "<style scoped>\n",
       "    .dataframe tbody tr th:only-of-type {\n",
       "        vertical-align: middle;\n",
       "    }\n",
       "\n",
       "    .dataframe tbody tr th {\n",
       "        vertical-align: top;\n",
       "    }\n",
       "\n",
       "    .dataframe thead th {\n",
       "        text-align: right;\n",
       "    }\n",
       "</style>\n",
       "<table border=\"1\" class=\"dataframe\">\n",
       "  <thead>\n",
       "    <tr style=\"text-align: right;\">\n",
       "      <th></th>\n",
       "      <th>riparian</th>\n",
       "      <th>upland</th>\n",
       "      <th>average</th>\n",
       "    </tr>\n",
       "  </thead>\n",
       "  <tbody>\n",
       "    <tr>\n",
       "      <th>thom_1972</th>\n",
       "      <td>7.25</td>\n",
       "      <td>9.10</td>\n",
       "      <td>8.18</td>\n",
       "    </tr>\n",
       "    <tr>\n",
       "      <th>log1</th>\n",
       "      <td>4.42</td>\n",
       "      <td>12.43</td>\n",
       "      <td>8.43</td>\n",
       "    </tr>\n",
       "    <tr>\n",
       "      <th>log10</th>\n",
       "      <td>8.60</td>\n",
       "      <td>10.07</td>\n",
       "      <td>9.34</td>\n",
       "    </tr>\n",
       "    <tr>\n",
       "      <th>log100</th>\n",
       "      <td>19.71</td>\n",
       "      <td>16.73</td>\n",
       "      <td>18.22</td>\n",
       "    </tr>\n",
       "    <tr>\n",
       "      <th>zilitinkevich_1995</th>\n",
       "      <td>49.57</td>\n",
       "      <td>16.97</td>\n",
       "      <td>33.27</td>\n",
       "    </tr>\n",
       "    <tr>\n",
       "      <th>sheppard_1958_v1</th>\n",
       "      <td>46.18</td>\n",
       "      <td>37.19</td>\n",
       "      <td>41.68</td>\n",
       "    </tr>\n",
       "    <tr>\n",
       "      <th>sheppard_1958_v2</th>\n",
       "      <td>50.62</td>\n",
       "      <td>42.40</td>\n",
       "      <td>46.51</td>\n",
       "    </tr>\n",
       "    <tr>\n",
       "      <th>kondo_1975</th>\n",
       "      <td>51.13</td>\n",
       "      <td>43.08</td>\n",
       "      <td>47.10</td>\n",
       "    </tr>\n",
       "    <tr>\n",
       "      <th>zeng_dickinson_1998</th>\n",
       "      <td>92.96</td>\n",
       "      <td>42.65</td>\n",
       "      <td>67.80</td>\n",
       "    </tr>\n",
       "    <tr>\n",
       "      <th>kanda_2007</th>\n",
       "      <td>90.20</td>\n",
       "      <td>57.40</td>\n",
       "      <td>73.80</td>\n",
       "    </tr>\n",
       "    <tr>\n",
       "      <th>brutsaert_1982</th>\n",
       "      <td>184.87</td>\n",
       "      <td>131.22</td>\n",
       "      <td>158.05</td>\n",
       "    </tr>\n",
       "    <tr>\n",
       "      <th>owen_thomson_1963</th>\n",
       "      <td>302.57</td>\n",
       "      <td>157.22</td>\n",
       "      <td>229.90</td>\n",
       "    </tr>\n",
       "  </tbody>\n",
       "</table>\n",
       "</div>"
      ],
      "text/plain": [
       "                     riparian  upland  average\n",
       "thom_1972                7.25    9.10     8.18\n",
       "log1                     4.42   12.43     8.43\n",
       "log10                    8.60   10.07     9.34\n",
       "log100                  19.71   16.73    18.22\n",
       "zilitinkevich_1995      49.57   16.97    33.27\n",
       "sheppard_1958_v1        46.18   37.19    41.68\n",
       "sheppard_1958_v2        50.62   42.40    46.51\n",
       "kondo_1975              51.13   43.08    47.10\n",
       "zeng_dickinson_1998     92.96   42.65    67.80\n",
       "kanda_2007              90.20   57.40    73.80\n",
       "brutsaert_1982         184.87  131.22   158.05\n",
       "owen_thomson_1963      302.57  157.22   229.90"
      ]
     },
     "execution_count": 9,
     "metadata": {},
     "output_type": "execute_result"
    }
   ],
   "source": [
    "comparison = pd.DataFrame({'riparian':pd.Series(riparian_dict),'upland':pd.Series(upland_dict)})\n",
    "comparison['average'] = comparison.mean(axis = 1).round(2)\n",
    "comparison.sort_values(['average'])"
   ]
  },
  {
   "cell_type": "markdown",
   "id": "6209401e-9539-4025-84a4-ce3cd962f620",
   "metadata": {},
   "source": [
    "### Check d Values"
   ]
  },
  {
   "cell_type": "code",
   "execution_count": 37,
   "id": "d7ef1c8e-5bdf-45e6-a6bf-f8802a1bd7f8",
   "metadata": {},
   "outputs": [],
   "source": [
    "df_rha = CMW_Eddy_Covariance_daytime\n",
    "arg_dict = CMW_arg_dict\n",
    "d_range = slice(0, 10, 0.1)\n",
    "monthly_d_pred = (df_rha\n",
    "    .groupby([arg_dict['year_col'], arg_dict['month_col']])\n",
    "    .apply(func = lambda x: nanbrute(gradient_d, ranges = (d_range,), args = (x[arg_dict['WS_1_col']], x[arg_dict['WS_2_col']], arg_dict['z1'], arg_dict['z2'], x[arg_dict['USTAR_col']],)))\n",
    "    .to_frame(name = 'd_pred'))"
   ]
  }
 ],
 "metadata": {
  "kernelspec": {
   "display_name": "Python 3 (ipykernel)",
   "language": "python",
   "name": "python3"
  },
  "language_info": {
   "codemirror_mode": {
    "name": "ipython",
    "version": 3
   },
   "file_extension": ".py",
   "mimetype": "text/x-python",
   "name": "python",
   "nbconvert_exporter": "python",
   "pygments_lexer": "ipython3",
   "version": "3.8.13"
  }
 },
 "nbformat": 4,
 "nbformat_minor": 5
}
